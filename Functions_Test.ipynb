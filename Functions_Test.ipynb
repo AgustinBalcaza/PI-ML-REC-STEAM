{
 "cells": [
  {
   "cell_type": "markdown",
   "metadata": {},
   "source": [
    "# Creación de las funciones"
   ]
  },
  {
   "cell_type": "markdown",
   "metadata": {},
   "source": [
    "Creamos las funciones y las probamos"
   ]
  },
  {
   "cell_type": "code",
   "execution_count": 1,
   "metadata": {},
   "outputs": [],
   "source": [
    "import pandas as pd\n",
    "import numpy as np"
   ]
  },
  {
   "cell_type": "markdown",
   "metadata": {},
   "source": [
    "Importamos los datasets que generamos en 'ETL y EDA/Functions_Prep.ipynb'"
   ]
  },
  {
   "cell_type": "code",
   "execution_count": 2,
   "metadata": {},
   "outputs": [],
   "source": [
    "playtimegenre = pd.read_csv('PlayTimeGenre.csv')\n",
    "userforgenre = pd.read_csv('UserForGenre.csv')\n",
    "usersrecommend = pd.read_csv('UsersRecommend.csv')\n",
    "usersworstdeveloper = pd.read_csv('UsersWorstDeveloper.csv')\n",
    "sentimentanalysis = pd.read_csv('sentiment_analysis.csv')\n",
    "recomendacionjuego = pd.read_csv('product.csv')"
   ]
  },
  {
   "cell_type": "markdown",
   "metadata": {},
   "source": [
    "PlayTimeGenre"
   ]
  },
  {
   "cell_type": "code",
   "execution_count": 25,
   "metadata": {},
   "outputs": [],
   "source": [
    "def PlayTimeGenre(genero: str):\n",
    "    filtered_df = playtimegenre[playtimegenre['genres'] == genero]\n",
    "    if filtered_df.empty:\n",
    "        error_message = {\"Error\": \"Género incorrecto\"}\n",
    "        return error_message\n",
    "    grouped_df = filtered_df.groupby('release_year')['playtime_forever'].sum()\n",
    "    max_year = int(grouped_df.idxmax())\n",
    "    result = {\"Año de lanzamiento con más horas jugadas para Género {}\".format(genero): max_year}\n",
    "    return result"
   ]
  },
  {
   "cell_type": "code",
   "execution_count": 107,
   "metadata": {},
   "outputs": [
    {
     "data": {
      "text/plain": [
       "{'Año de lanzamiento con más horas jugadas para Género Adventure': 2011}"
      ]
     },
     "execution_count": 107,
     "metadata": {},
     "output_type": "execute_result"
    }
   ],
   "source": [
    "PlayTimeGenre('Adventure')"
   ]
  },
  {
   "cell_type": "markdown",
   "metadata": {},
   "source": [
    "UserForGenre"
   ]
  },
  {
   "cell_type": "code",
   "execution_count": 32,
   "metadata": {},
   "outputs": [],
   "source": [
    "def UserForGenre(genero: str):\n",
    "    genre_df = userforgenre[userforgenre['genres'] == genero]\n",
    "    if genre_df.empty:\n",
    "        error_message = {\"Error\": \"Género no encontrado\"}\n",
    "        return error_message\n",
    "    user_hours = genre_df.groupby('user_id')['playtime_forever'].sum()\n",
    "    max_user = user_hours.idxmax()\n",
    "    max_user_df = genre_df[genre_df['user_id'] == max_user]\n",
    "    hours_by_year = max_user_df.groupby('release_year')['playtime_forever'].sum().reset_index()\n",
    "    hours_list = [{'Año': year, 'Horas': hours} for year, hours in zip(hours_by_year['release_year'], hours_by_year['playtime_forever'])]\n",
    "    result = {\n",
    "        \"Usuario con más horas jugadas para Género {}\".format(genero): max_user,\n",
    "        \"Horas jugadas\": hours_list\n",
    "    }\n",
    "    return result"
   ]
  },
  {
   "cell_type": "code",
   "execution_count": 35,
   "metadata": {},
   "outputs": [
    {
     "data": {
      "text/plain": [
       "{'Usuario con más horas jugadas para Género Design & Illustration': 'ScottyG555',\n",
       " 'Horas jugadas': [{'Año': 2015, 'Horas': 2805}]}"
      ]
     },
     "execution_count": 35,
     "metadata": {},
     "output_type": "execute_result"
    }
   ],
   "source": [
    "UserForGenre('Design & Illustration')"
   ]
  },
  {
   "cell_type": "markdown",
   "metadata": {},
   "source": [
    "UsersRecommend"
   ]
  },
  {
   "cell_type": "code",
   "execution_count": 69,
   "metadata": {},
   "outputs": [],
   "source": [
    "def UsersRecommend(año: int):\n",
    "    if not isinstance(año, int):\n",
    "        error_message = {\"Error\": \"Debe ingresar un año en formato entero\"}\n",
    "        return error_message\n",
    "    filtered_df = usersrecommend[(usersrecommend['year'] == año) & (usersrecommend['recommend_score'] > 0)]\n",
    "    if filtered_df.empty:\n",
    "        error_message = {\"Error\": \"No hay recomendaciones para el año especificado\"}\n",
    "        return error_message\n",
    "    sorted_df = filtered_df.sort_values(by='recommend_score', ascending=False)\n",
    "    top_3 = sorted_df.head(3)\n",
    "    result = [{\"Puesto 1\": top_3.iloc[0]['app_name']},\n",
    "              {\"Puesto 2\": top_3.iloc[1]['app_name']},\n",
    "              {\"Puesto 3\": top_3.iloc[2]['app_name']}]\n",
    "\n",
    "    return result"
   ]
  },
  {
   "cell_type": "code",
   "execution_count": 73,
   "metadata": {},
   "outputs": [
    {
     "data": {
      "text/plain": [
       "[{'Puesto 1': 'Team Fortress 2'},\n",
       " {'Puesto 2': 'Killing Floor'},\n",
       " {'Puesto 3': 'Alien Swarm'}]"
      ]
     },
     "execution_count": 73,
     "metadata": {},
     "output_type": "execute_result"
    }
   ],
   "source": [
    "UsersRecommend(2010)"
   ]
  },
  {
   "cell_type": "markdown",
   "metadata": {},
   "source": [
    "UsersWorstDeveloper"
   ]
  },
  {
   "cell_type": "code",
   "execution_count": 80,
   "metadata": {},
   "outputs": [],
   "source": [
    "def UsersWorstDeveloper(año: int):\n",
    "    if not isinstance(año, int):\n",
    "        error_message = {\"Error\": \"Debe ingresar un año en formato entero\"}\n",
    "        return error_message\n",
    "    filtered_df = usersworstdeveloper[(usersworstdeveloper['year'] == año) & (usersworstdeveloper['bad_reviews'] > 0)]\n",
    "    if filtered_df.empty:\n",
    "        error_message = {\"Error\": \"No hay reseñas negativas para el año especificado\"}\n",
    "        return error_message\n",
    "    developer_stats = filtered_df.groupby('developer').agg({'bad_reviews': 'sum', 'recommend_score': ['min', 'sum']})\n",
    "    sorted_developers = developer_stats.sort_values(by=[('bad_reviews', 'sum'), ('recommend_score', 'min'), ('recommend_score', 'sum')],\n",
    "                                                    ascending=[False, True, True])\n",
    "    top_developers = sorted_developers.head(3)\n",
    "    result = [{\"Puesto {}\".format(i + 1): developer}\n",
    "              for i, developer in enumerate(top_developers.index)]\n",
    "    return result"
   ]
  },
  {
   "cell_type": "code",
   "execution_count": 83,
   "metadata": {},
   "outputs": [
    {
     "data": {
      "text/plain": [
       "[{'Puesto 1': 'Valve'},\n",
       " {'Puesto 2': 'Bohemia Interactive'},\n",
       " {'Puesto 3': 'Facepunch Studios'}]"
      ]
     },
     "execution_count": 83,
     "metadata": {},
     "output_type": "execute_result"
    }
   ],
   "source": [
    "UsersWorstDeveloper(2015)"
   ]
  },
  {
   "cell_type": "markdown",
   "metadata": {},
   "source": [
    "Sentiment Analysis"
   ]
  },
  {
   "cell_type": "code",
   "execution_count": 103,
   "metadata": {},
   "outputs": [],
   "source": [
    "def sentiment_analysis(desarrolladora: str):\n",
    "    # Filtrar el DataFrame por la empresa desarrolladora\n",
    "    empresa_df = sentimentanalysis[sentimentanalysis['developer'] == desarrolladora]\n",
    "    if empresa_df.empty:\n",
    "        error_message = {'Error': 'Desarrolladora incorrecta'}\n",
    "        return error_message\n",
    "\n",
    "    # Calcular la cantidad total de cada categoría de sentimiento y convertimos a entero\n",
    "    total_negativas = int(empresa_df['bad_reviews'].sum())\n",
    "    total_neutrales = int(empresa_df['neutral_reviews'].sum())\n",
    "    total_positivas = int(empresa_df['good_reviews'].sum())\n",
    "\n",
    "    # Crear el diccionario de retorno\n",
    "    resultado = {\n",
    "        desarrolladora: {\n",
    "            'Negative': total_negativas,\n",
    "            'Neutral': total_neutrales,\n",
    "            'Positive': total_positivas\n",
    "        }\n",
    "    }\n",
    "\n",
    "    return resultado"
   ]
  },
  {
   "cell_type": "code",
   "execution_count": 106,
   "metadata": {},
   "outputs": [
    {
     "data": {
      "text/plain": [
       "{'Valve': {'Negative': 1597, 'Neutral': 2558, 'Positive': 5417}}"
      ]
     },
     "execution_count": 106,
     "metadata": {},
     "output_type": "execute_result"
    }
   ],
   "source": [
    "sentiment_analysis('Valve')"
   ]
  },
  {
   "cell_type": "code",
   "execution_count": 3,
   "metadata": {},
   "outputs": [],
   "source": [
    "def recomendacion_juego(game_id: int):\n",
    "    if not isinstance(game_id, int):\n",
    "        error_message = {\"Error\": \"El Id del juego debe ser un valor entero\"}\n",
    "        return error_message\n",
    "    if game_id not in recomendacionjuego['id'].values:\n",
    "        error_message = {\"Error\": \"Id de juego incorrecto\"}\n",
    "        return error_message\n",
    "    path = 'cosine_sim.npy'\n",
    "    cosine_sim = np.load(path)\n",
    "    idx = recomendacionjuego[recomendacionjuego['id'] == game_id].index[0]\n",
    "    rec_games = recomendacionjuego['app_name'].iloc[cosine_sim[idx]]\n",
    "    info = {'recomendaciones': None}\n",
    "    info['recomendaciones'] = list(rec_games)\n",
    "    return info"
   ]
  },
  {
   "cell_type": "code",
   "execution_count": 5,
   "metadata": {},
   "outputs": [
    {
     "data": {
      "text/plain": [
       "{'recomendaciones': ['Zombie Panic',\n",
       "  'Cannon Fodder 3',\n",
       "  'Rogue Shooter: The FPS Roguelike Demo',\n",
       "  'SiN Episodes: Emergence',\n",
       "  'Half-Life 2: Lost Coast']}"
      ]
     },
     "execution_count": 5,
     "metadata": {},
     "output_type": "execute_result"
    }
   ],
   "source": [
    "recomendacion_juego(70)"
   ]
  }
 ],
 "metadata": {
  "kernelspec": {
   "display_name": "Python 3",
   "language": "python",
   "name": "python3"
  },
  "language_info": {
   "codemirror_mode": {
    "name": "ipython",
    "version": 3
   },
   "file_extension": ".py",
   "mimetype": "text/x-python",
   "name": "python",
   "nbconvert_exporter": "python",
   "pygments_lexer": "ipython3",
   "version": "3.11.3"
  }
 },
 "nbformat": 4,
 "nbformat_minor": 2
}
