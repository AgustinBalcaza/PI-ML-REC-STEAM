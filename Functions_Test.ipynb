{
 "cells": [
  {
   "cell_type": "code",
   "execution_count": 3,
   "metadata": {},
   "outputs": [],
   "source": [
    "import pandas as pd\n",
    "import numpy as np"
   ]
  },
  {
   "cell_type": "code",
   "execution_count": 4,
   "metadata": {},
   "outputs": [],
   "source": [
    "playtimegenre = pd.read_csv('PlayTimeGenre.csv')\n",
    "userforgenre = pd.read_csv('UserForGenre.csv')\n",
    "usersrecommend = pd.read_csv('UsersRecommend.csv')\n",
    "usersworstdeveloper = pd.read_csv('UsersWorstDeveloper.csv')\n",
    "sentimentanalysis = pd.read_csv('sentiment_analysis.csv')\n",
    "recomendacionjuego = pd.read_csv('product.csv')"
   ]
  },
  {
   "cell_type": "code",
   "execution_count": 4,
   "metadata": {},
   "outputs": [],
   "source": [
    "def PlayTimeGenre(genero: str):\n",
    "    # Filtrar el DataFrame por el género especificado\n",
    "    filtered_df = playtimegenre[playtimegenre['genres'] == genero]\n",
    "\n",
    "    # Verificar si hay datos para el género especificado\n",
    "    if filtered_df.empty:\n",
    "        return {\"No hay datos disponibles para el género {}\".format(genero)}\n",
    "\n",
    "    # Agrupar por año y sumar las horas jugadas\n",
    "    grouped_df = filtered_df.groupby('release_year')['playtime_forever'].sum()\n",
    "\n",
    "    # Verificar si hay datos después de agrupar\n",
    "    if grouped_df.empty:\n",
    "        return {\"No hay datos disponibles para el género {}\".format(genero)}\n",
    "\n",
    "    # Encontrar el año con más horas jugadas\n",
    "    max_year = int(grouped_df.idxmax())  # Convertir el año a entero\n",
    "\n",
    "    # Construir el diccionario de resultado\n",
    "    result = {\"Año de lanzamiento con más horas jugadas para Género {}\".format(genero): max_year}\n",
    "\n",
    "    return result"
   ]
  },
  {
   "cell_type": "code",
   "execution_count": 5,
   "metadata": {},
   "outputs": [
    {
     "data": {
      "text/plain": [
       "{'Año de lanzamiento con más horas jugadas para Género Adventure': 2011}"
      ]
     },
     "execution_count": 5,
     "metadata": {},
     "output_type": "execute_result"
    }
   ],
   "source": [
    "PlayTimeGenre('Adventure')"
   ]
  },
  {
   "cell_type": "code",
   "execution_count": 6,
   "metadata": {},
   "outputs": [],
   "source": [
    "def UserForGenre(genero: str):\n",
    "    # Filtrar el DataFrame por el género dado\n",
    "    genre_df = userforgenre[userforgenre['genres'] == genero]\n",
    "\n",
    "    # Agrupar por usuario y sumar las horas jugadas\n",
    "    user_hours = genre_df.groupby('user_id')['playtime_forever'].sum()\n",
    "\n",
    "    # Obtener el usuario con más horas jugadas\n",
    "    max_user = user_hours.idxmax()\n",
    "\n",
    "    # Filtrar el DataFrame por el usuario con más horas jugadas\n",
    "    max_user_df = genre_df[genre_df['user_id'] == max_user]\n",
    "\n",
    "    # Agrupar por año y sumar las horas jugadas\n",
    "    hours_by_year = max_user_df.groupby('release_year')['playtime_forever'].sum().reset_index()\n",
    "\n",
    "    # Crear la lista de horas jugadas por año en el formato deseado\n",
    "    hours_list = [{'Año': year, 'Horas': hours} for year, hours in zip(hours_by_year['release_year'], hours_by_year['playtime_forever'])]\n",
    "\n",
    "    # Crear el diccionario de retorno\n",
    "    result = {\n",
    "        \"Usuario con más horas jugadas para Género {}\".format(genero): max_user,\n",
    "        \"Horas jugadas\": hours_list\n",
    "    }\n",
    "\n",
    "    return result"
   ]
  },
  {
   "cell_type": "code",
   "execution_count": 7,
   "metadata": {},
   "outputs": [
    {
     "data": {
      "text/plain": [
       "{'Usuario con más horas jugadas para Género Action': 'Sp3ctre',\n",
       " 'Horas jugadas': [{'Año': 1995, 'Horas': 3},\n",
       "  {'Año': 2000, 'Horas': 1177},\n",
       "  {'Año': 2002, 'Horas': 3},\n",
       "  {'Año': 2003, 'Horas': 127},\n",
       "  {'Año': 2004, 'Horas': 2123},\n",
       "  {'Año': 2005, 'Horas': 355},\n",
       "  {'Año': 2006, 'Horas': 14},\n",
       "  {'Año': 2007, 'Horas': 1879},\n",
       "  {'Año': 2008, 'Horas': 3},\n",
       "  {'Año': 2009, 'Horas': 1805},\n",
       "  {'Año': 2010, 'Horas': 1301},\n",
       "  {'Año': 2011, 'Horas': 2581},\n",
       "  {'Año': 2012, 'Horas': 6304},\n",
       "  {'Año': 2013, 'Horas': 2007},\n",
       "  {'Año': 2014, 'Horas': 2178},\n",
       "  {'Año': 2015, 'Horas': 5125},\n",
       "  {'Año': 2016, 'Horas': 492},\n",
       "  {'Año': 2017, 'Horas': 722}]}"
      ]
     },
     "execution_count": 7,
     "metadata": {},
     "output_type": "execute_result"
    }
   ],
   "source": [
    "UserForGenre('Action')"
   ]
  },
  {
   "cell_type": "code",
   "execution_count": 8,
   "metadata": {},
   "outputs": [],
   "source": [
    "def UsersRecommend(año: int):\n",
    "    # Filtrar el DataFrame para el año dado y donde las recomendaciones sean positivas o neutrales\n",
    "    filtered_df = usersrecommend[(usersrecommend['year'] == año) & (usersrecommend['recommend_score'] > 0)]\n",
    "\n",
    "    # Ordenar el DataFrame por el número de recomendaciones de forma descendente\n",
    "    sorted_df = filtered_df.sort_values(by='recommend_score', ascending=False)\n",
    "\n",
    "    # Tomar los primeros 3 juegos del DataFrame ordenado\n",
    "    top_3 = sorted_df.head(3)\n",
    "\n",
    "    # Crear la lista de resultados en el formato deseado\n",
    "    result = [{\"Puesto 1\": top_3.iloc[0]['app_name']},\n",
    "              {\"Puesto 2\": top_3.iloc[1]['app_name']},\n",
    "              {\"Puesto 3\": top_3.iloc[2]['app_name']}]\n",
    "\n",
    "    return result"
   ]
  },
  {
   "cell_type": "code",
   "execution_count": 11,
   "metadata": {},
   "outputs": [
    {
     "data": {
      "text/plain": [
       "[{'Puesto 1': 'Counter-Strike: Global Offensive'},\n",
       " {'Puesto 2': 'Team Fortress 2'},\n",
       " {'Puesto 3': \"Garry's Mod\"}]"
      ]
     },
     "execution_count": 11,
     "metadata": {},
     "output_type": "execute_result"
    }
   ],
   "source": [
    "UsersRecommend(2015)"
   ]
  },
  {
   "cell_type": "code",
   "execution_count": 14,
   "metadata": {},
   "outputs": [],
   "source": [
    "def UsersWorstDeveloper(año: int):\n",
    "    # Filtrar el DataFrame para el año dado y comentarios negativos\n",
    "    filtered_df = usersworstdeveloper[(usersworstdeveloper['year'] == año) & (usersworstdeveloper['bad_reviews'] > 0)]\n",
    "\n",
    "    # Agrupar por desarrollador y calcular la suma de malas reseñas y el mínimo de recommend_score\n",
    "    developer_stats = filtered_df.groupby('developer').agg({'bad_reviews': 'sum', 'recommend_score': ['min', 'sum']})\n",
    "\n",
    "    # Ordenar primero por bad_reviews en orden descendente y luego por recommend_score y recommend_score_total en orden ascendente\n",
    "    sorted_developers = developer_stats.sort_values(by=[('bad_reviews', 'sum'), ('recommend_score', 'min'), ('recommend_score', 'sum')],\n",
    "                                                    ascending=[False, True, True])\n",
    "\n",
    "    # Tomar las primeras 3 desarrolladoras\n",
    "    top_developers = sorted_developers.head(3)\n",
    "\n",
    "    # Crear la lista de resultados en el formato deseado\n",
    "    result = [{\"Puesto {}\".format(i + 1): developer}\n",
    "              for i, developer in enumerate(top_developers.index)]\n",
    "\n",
    "    return result"
   ]
  },
  {
   "cell_type": "code",
   "execution_count": 20,
   "metadata": {},
   "outputs": [
    {
     "data": {
      "text/plain": [
       "[{'Puesto 1': 'Valve'},\n",
       " {'Puesto 2': 'Bohemia Interactive'},\n",
       " {'Puesto 3': 'Facepunch Studios'}]"
      ]
     },
     "execution_count": 20,
     "metadata": {},
     "output_type": "execute_result"
    }
   ],
   "source": [
    "UsersWorstDeveloper(2014)"
   ]
  },
  {
   "cell_type": "code",
   "execution_count": 24,
   "metadata": {},
   "outputs": [],
   "source": [
    "def sentiment_analysis(desarrolladora: str):\n",
    "    # Filtrar el DataFrame por la empresa desarrolladora\n",
    "    empresa_df = sentimentanalysis[sentimentanalysis['developer'] == desarrolladora]\n",
    "\n",
    "    # Calcular la cantidad total de cada categoría de sentimiento\n",
    "    total_negativas = int(empresa_df['bad_reviews'].sum())\n",
    "    total_neutrales = int(empresa_df['neutral_reviews'].sum())\n",
    "    total_positivas = int(empresa_df['good_reviews'].sum())\n",
    "\n",
    "    # Crear el diccionario de retorno\n",
    "    resultado = {\n",
    "        desarrolladora: {\n",
    "            'Negative': total_negativas,\n",
    "            'Neutral': total_neutrales,\n",
    "            'Positive': total_positivas\n",
    "        }\n",
    "    }\n",
    "\n",
    "    return resultado"
   ]
  },
  {
   "cell_type": "code",
   "execution_count": 25,
   "metadata": {},
   "outputs": [
    {
     "data": {
      "text/plain": [
       "{'高考恋爱委员会,橘子班': {'Negative': 0, 'Neutral': 1, 'Positive': 1}}"
      ]
     },
     "execution_count": 25,
     "metadata": {},
     "output_type": "execute_result"
    }
   ],
   "source": [
    "sentiment_analysis('高考恋爱委员会,橘子班')"
   ]
  },
  {
   "cell_type": "code",
   "execution_count": 23,
   "metadata": {},
   "outputs": [],
   "source": [
    "def recomendacion_juego(game_id: int):\n",
    "\n",
    "    path = 'cosine_sim.npy'\n",
    "    cosine_sim = np.load(path)\n",
    "\n",
    "    idx = recomendacionjuego[recomendacionjuego['id'] == game_id].index[0]\n",
    "    rec_games = recomendacionjuego['app_name'].iloc[cosine_sim[idx]]\n",
    "\n",
    "    info = {'recomendaciones': None}\n",
    "    info['recomendaciones'] = list(rec_games)\n",
    "\n",
    "    return info"
   ]
  },
  {
   "cell_type": "code",
   "execution_count": 25,
   "metadata": {},
   "outputs": [
    {
     "data": {
      "text/plain": [
       "{'recomendaciones': ['Half-Life Deathmatch: Source',\n",
       "  'Zombie Panic',\n",
       "  'Cannon Fodder 3',\n",
       "  'Counter-Strike: Condition Zero',\n",
       "  'Zombie Master']}"
      ]
     },
     "execution_count": 25,
     "metadata": {},
     "output_type": "execute_result"
    }
   ],
   "source": [
    "recomendacion_juego(10)"
   ]
  }
 ],
 "metadata": {
  "kernelspec": {
   "display_name": "Python 3",
   "language": "python",
   "name": "python3"
  },
  "language_info": {
   "codemirror_mode": {
    "name": "ipython",
    "version": 3
   },
   "file_extension": ".py",
   "mimetype": "text/x-python",
   "name": "python",
   "nbconvert_exporter": "python",
   "pygments_lexer": "ipython3",
   "version": "3.11.3"
  }
 },
 "nbformat": 4,
 "nbformat_minor": 2
}
